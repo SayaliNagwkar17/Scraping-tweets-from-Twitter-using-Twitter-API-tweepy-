{
 "cells": [
  {
   "cell_type": "code",
   "execution_count": 1,
   "metadata": {},
   "outputs": [],
   "source": [
    "#importing all libraries\n",
    "\n",
    "import tweepy\n",
    "import datetime\n",
    "import xlsxwriter\n",
    "import sys"
   ]
  },
  {
   "cell_type": "code",
   "execution_count": 2,
   "metadata": {},
   "outputs": [],
   "source": [
    "# credentials from https://apps.twitter.com/\n",
    "\n",
    "consumer_key = \"\" #input('Consumer Key')\n",
    "consumer_secret =\"\" #input('Consumer Secret')\n",
    "access_token = \"\" #input('Access Token')\n",
    "access_token_secret = \"\" #input('Access Token Secret')\n",
    "\n",
    "auth = tweepy.OAuthHandler(consumer_key, consumer_secret)\n",
    "auth.set_access_token(access_token, access_token_secret)\n",
    "api = tweepy.API(auth)"
   ]
  },
  {
   "cell_type": "code",
   "execution_count": 3,
   "metadata": {},
   "outputs": [],
   "source": [
    "#Enter any page name for which scrapping needs to be done\n",
    "username=\"Any Page Name\"\n",
    "\n",
    "#Scrape tweets between Strating date and Ending date\n",
    "startDate = datetime.datetime(yyyy, mm, dd)#(year,month,date) formate\n",
    "endDate =   datetime.datetime(yyyy, mm, dd)#(year,month,date) formate\n",
    "\n",
    "tweets = []\n",
    "tmpTweets = api.user_timeline(username)\n",
    "for tweet in tmpTweets:\n",
    "    if tweet.created_at < endDate and tweet.created_at > startDate:\n",
    "        tweets.append(tweet)\n"
   ]
  },
  {
   "cell_type": "code",
   "execution_count": 4,
   "metadata": {},
   "outputs": [
    {
     "name": "stdout",
     "output_type": "stream",
     "text": [
      "Last Tweet @ 2020-07-17 06:37:52  - fetching some more\n"
     ]
    }
   ],
   "source": [
    "while (tmpTweets[-1].created_at > startDate):\n",
    "    print(\"Last Tweet @\", tmpTweets[-1].created_at, \" - fetching some more\")\n",
    "    tmpTweets = api.user_timeline(username, max_id = tmpTweets[-1].id)\n",
    "    for tweet in tmpTweets:\n",
    "        if tweet.created_at < endDate and tweet.created_at > startDate:\n",
    "            tweets.append(tweet)"
   ]
  },
  {
   "cell_type": "code",
   "execution_count": 5,
   "metadata": {},
   "outputs": [
    {
     "name": "stdout",
     "output_type": "stream",
     "text": [
      "Excel file ready\n"
     ]
    }
   ],
   "source": [
    "workbook = xlsxwriter.Workbook(username + \".xlsx\")\n",
    "worksheet = workbook.add_worksheet()\n",
    "bold = workbook.add_format({'bold': True})\n",
    "\n",
    "worksheet.write('A1', 'created_at',bold)\n",
    "worksheet.write('B1', 'ID',bold)\n",
    "worksheet.write('C1', 'screen_name',bold)\n",
    "worksheet.write('D1', 'text',bold)\n",
    "worksheet.write('E1', 'reply with oroginal id',bold)\n",
    "worksheet.write('F1', 'retweet_count',bold)\n",
    "row = 1\n",
    "\n",
    "for tweet in tweets:\n",
    "    worksheet.write_string(row, 0,str(tweet.created_at))\n",
    "    worksheet.write_string(row, 1, str(tweet.id))\n",
    "    worksheet.write_string(row, 2, str(tweet.user.screen_name))\n",
    "    worksheet.write(row, 3, tweet.text)\n",
    "    worksheet.write_string(row, 4, str(tweet.in_reply_to_status_id))\n",
    "    worksheet.write_string(row, 5, str(tweet.retweet_count))\n",
    "\n",
    "\n",
    "    row += 1\n",
    "    \n",
    "\n",
    "workbook.close()\n",
    "print(\"Excel file ready\")\n"
   ]
  }
 ],
 "metadata": {
  "kernelspec": {
   "display_name": "Python 3",
   "language": "python",
   "name": "python3"
  },
  "language_info": {
   "codemirror_mode": {
    "name": "ipython",
    "version": 3
   },
   "file_extension": ".py",
   "mimetype": "text/x-python",
   "name": "python",
   "nbconvert_exporter": "python",
   "pygments_lexer": "ipython3",
   "version": "3.7.4"
  }
 },
 "nbformat": 4,
 "nbformat_minor": 2
}
